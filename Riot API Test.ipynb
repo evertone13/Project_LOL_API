{
 "cells": [
  {
   "cell_type": "code",
   "execution_count": 225,
   "id": "3c1f5ebe",
   "metadata": {},
   "outputs": [],
   "source": [
    "api_key= \"RGAPI-84b830fc-1dc6-4225-a75b-ca1ff256722c\""
   ]
  },
  {
   "cell_type": "code",
   "execution_count": 226,
   "id": "54484d19",
   "metadata": {},
   "outputs": [
    {
     "data": {
      "text/plain": [
       "'RGAPI-84b830fc-1dc6-4225-a75b-ca1ff256722c'"
      ]
     },
     "execution_count": 226,
     "metadata": {},
     "output_type": "execute_result"
    }
   ],
   "source": [
    "api_key"
   ]
  },
  {
   "cell_type": "markdown",
   "id": "1e752664",
   "metadata": {},
   "source": [
    "# From Account-V1"
   ]
  },
  {
   "cell_type": "code",
   "execution_count": 263,
   "id": "d0229373",
   "metadata": {},
   "outputs": [],
   "source": [
    "api_url='https://kr.api.riotgames.com/lol/summoner/v4/summoners/by-name/%EC%BB%A4%EC%97%AC%EC%9A%B4%EB%93%84%EB%8C%B1%EC%9D%B4'"
   ]
  },
  {
   "cell_type": "code",
   "execution_count": 264,
   "id": "76099323",
   "metadata": {},
   "outputs": [],
   "source": [
    "import requests"
   ]
  },
  {
   "cell_type": "code",
   "execution_count": 265,
   "id": "47d3092e",
   "metadata": {},
   "outputs": [
    {
     "data": {
      "text/plain": [
       "<Response [401]>"
      ]
     },
     "execution_count": 265,
     "metadata": {},
     "output_type": "execute_result"
    }
   ],
   "source": [
    "requests.get(api_url)"
   ]
  },
  {
   "cell_type": "code",
   "execution_count": 266,
   "id": "2b34961e",
   "metadata": {},
   "outputs": [],
   "source": [
    "api_url=api_url + '?api_key=' + api_key"
   ]
  },
  {
   "cell_type": "code",
   "execution_count": 267,
   "id": "cba45411",
   "metadata": {},
   "outputs": [
    {
     "data": {
      "text/plain": [
       "'https://kr.api.riotgames.com/lol/summoner/v4/summoners/by-name/%EC%BB%A4%EC%97%AC%EC%9A%B4%EB%93%84%EB%8C%B1%EC%9D%B4?api_key=RGAPI-84b830fc-1dc6-4225-a75b-ca1ff256722c'"
      ]
     },
     "execution_count": 267,
     "metadata": {},
     "output_type": "execute_result"
    }
   ],
   "source": [
    "api_url"
   ]
  },
  {
   "cell_type": "code",
   "execution_count": 268,
   "id": "bce0eeca",
   "metadata": {},
   "outputs": [],
   "source": [
    "resp=requests.get(api_url)"
   ]
  },
  {
   "cell_type": "code",
   "execution_count": 269,
   "id": "ff329a8b",
   "metadata": {},
   "outputs": [],
   "source": [
    "player_info=resp.json()"
   ]
  },
  {
   "cell_type": "code",
   "execution_count": 270,
   "id": "5cbff43f",
   "metadata": {},
   "outputs": [],
   "source": [
    "player_account_id=player_info['accountId']"
   ]
  },
  {
   "cell_type": "code",
   "execution_count": 271,
   "id": "df5bf6ec",
   "metadata": {},
   "outputs": [
    {
     "data": {
      "text/plain": [
       "'dJytQgiQsPTqFd8heqTieE76qo5InXbzI8gArWjVXTLcOpXAjt9rFRTL'"
      ]
     },
     "execution_count": 271,
     "metadata": {},
     "output_type": "execute_result"
    }
   ],
   "source": [
    "player_account_id"
   ]
  },
  {
   "cell_type": "code",
   "execution_count": 272,
   "id": "d0459401",
   "metadata": {},
   "outputs": [
    {
     "data": {
      "text/plain": [
       "{'id': 'A2qDVaeQudRdsRn9f-uSi5r4BzLhBpDxU1RPCZz8RauBGRY',\n",
       " 'accountId': 'dJytQgiQsPTqFd8heqTieE76qo5InXbzI8gArWjVXTLcOpXAjt9rFRTL',\n",
       " 'puuid': 'TORNTKMS3R96pX0U1zv4-hzW94lMcpOl_atvilmC30Y8_KiNikwBHOczOeR42URVlxMGGlMigVOI3A',\n",
       " 'name': '커여운듄댱이',\n",
       " 'profileIconId': 4571,\n",
       " 'revisionDate': 1702482113825,\n",
       " 'summonerLevel': 117}"
      ]
     },
     "execution_count": 272,
     "metadata": {},
     "output_type": "execute_result"
    }
   ],
   "source": [
    "player_info"
   ]
  },
  {
   "cell_type": "markdown",
   "id": "42585bc0",
   "metadata": {},
   "source": [
    "# From MATCH-V5"
   ]
  },
  {
   "cell_type": "code",
   "execution_count": 299,
   "id": "9e5775ae",
   "metadata": {},
   "outputs": [],
   "source": [
    "api_url='https://asia.api.riotgames.com/lol/match/v5/matches/by-puuid/TORNTKMS3R96pX0U1zv4-hzW94lMcpOl_atvilmC30Y8_KiNikwBHOczOeR42URVlxMGGlMigVOI3A/ids?start=0&count=20'"
   ]
  },
  {
   "cell_type": "code",
   "execution_count": 300,
   "id": "4c2d6022",
   "metadata": {},
   "outputs": [],
   "source": [
    "api_url= api_url+\"&api_key=\" + api_key"
   ]
  },
  {
   "cell_type": "code",
   "execution_count": 301,
   "id": "d6d1a3db",
   "metadata": {},
   "outputs": [
    {
     "data": {
      "text/plain": [
       "'https://asia.api.riotgames.com/lol/match/v5/matches/by-puuid/TORNTKMS3R96pX0U1zv4-hzW94lMcpOl_atvilmC30Y8_KiNikwBHOczOeR42URVlxMGGlMigVOI3A/ids?start=0&count=20&api_key=RGAPI-84b830fc-1dc6-4225-a75b-ca1ff256722c'"
      ]
     },
     "execution_count": 301,
     "metadata": {},
     "output_type": "execute_result"
    }
   ],
   "source": [
    "api_url"
   ]
  },
  {
   "cell_type": "code",
   "execution_count": 302,
   "id": "1622ae7e",
   "metadata": {},
   "outputs": [],
   "source": [
    "resp=requests.get(api_url)"
   ]
  },
  {
   "cell_type": "code",
   "execution_count": 303,
   "id": "47ff4fe2",
   "metadata": {},
   "outputs": [],
   "source": [
    "matches=resp.json()"
   ]
  },
  {
   "cell_type": "code",
   "execution_count": 304,
   "id": "c1b0e7aa",
   "metadata": {},
   "outputs": [],
   "source": [
    "match=matches[0]"
   ]
  },
  {
   "cell_type": "code",
   "execution_count": 305,
   "id": "e66ef082",
   "metadata": {},
   "outputs": [
    {
     "data": {
      "text/plain": [
       "'KR_6847664207'"
      ]
     },
     "execution_count": 305,
     "metadata": {},
     "output_type": "execute_result"
    }
   ],
   "source": [
    "match"
   ]
  },
  {
   "cell_type": "code",
   "execution_count": 306,
   "id": "33e5261f",
   "metadata": {},
   "outputs": [],
   "source": [
    "api_url=\"https://asia.api.riotgames.com/lol/match/v5/matches/KR_6847664207\""
   ]
  },
  {
   "cell_type": "code",
   "execution_count": 307,
   "id": "41203b1f",
   "metadata": {},
   "outputs": [],
   "source": [
    "api_url=api_url+\"?api_key=\"+api_key"
   ]
  },
  {
   "cell_type": "code",
   "execution_count": 308,
   "id": "7fb03801",
   "metadata": {},
   "outputs": [
    {
     "data": {
      "text/plain": [
       "'https://asia.api.riotgames.com/lol/match/v5/matches/KR_6847664207?api_key=RGAPI-84b830fc-1dc6-4225-a75b-ca1ff256722c'"
      ]
     },
     "execution_count": 308,
     "metadata": {},
     "output_type": "execute_result"
    }
   ],
   "source": [
    "api_url"
   ]
  },
  {
   "cell_type": "code",
   "execution_count": 309,
   "id": "9a8e696b",
   "metadata": {},
   "outputs": [],
   "source": [
    "resp=requests.get(api_url)"
   ]
  },
  {
   "cell_type": "code",
   "execution_count": 310,
   "id": "67fcb6d5",
   "metadata": {},
   "outputs": [],
   "source": [
    "match_data=resp.json()"
   ]
  },
  {
   "cell_type": "code",
   "execution_count": 311,
   "id": "f462fdc4",
   "metadata": {},
   "outputs": [
    {
     "data": {
      "text/plain": [
       "dict_keys(['metadata', 'info'])"
      ]
     },
     "execution_count": 311,
     "metadata": {},
     "output_type": "execute_result"
    }
   ],
   "source": [
    "match_data.keys()"
   ]
  },
  {
   "cell_type": "code",
   "execution_count": 312,
   "id": "4a63a81c",
   "metadata": {},
   "outputs": [],
   "source": [
    "puuid=player_info['puuid']"
   ]
  },
  {
   "cell_type": "code",
   "execution_count": 313,
   "id": "34806fe6",
   "metadata": {},
   "outputs": [
    {
     "name": "stdout",
     "output_type": "stream",
     "text": [
      "TORNTKMS3R96pX0U1zv4-hzW94lMcpOl_atvilmC30Y8_KiNikwBHOczOeR42URVlxMGGlMigVOI3A\n"
     ]
    }
   ],
   "source": [
    "print(puuid)"
   ]
  },
  {
   "cell_type": "code",
   "execution_count": 314,
   "id": "2fca4aec",
   "metadata": {},
   "outputs": [],
   "source": [
    "part_index=match_data['metadata']['participants'].index(puuid)"
   ]
  },
  {
   "cell_type": "code",
   "execution_count": 315,
   "id": "dd725d3f",
   "metadata": {},
   "outputs": [
    {
     "data": {
      "text/plain": [
       "8"
      ]
     },
     "execution_count": 315,
     "metadata": {},
     "output_type": "execute_result"
    }
   ],
   "source": [
    "part_index"
   ]
  },
  {
   "cell_type": "code",
   "execution_count": 316,
   "id": "6daff4e1",
   "metadata": {},
   "outputs": [
    {
     "data": {
      "text/plain": [
       "dict_keys(['gameCreation', 'gameDuration', 'gameEndTimestamp', 'gameId', 'gameMode', 'gameName', 'gameStartTimestamp', 'gameType', 'gameVersion', 'mapId', 'participants', 'platformId', 'queueId', 'teams', 'tournamentCode'])"
      ]
     },
     "execution_count": 316,
     "metadata": {},
     "output_type": "execute_result"
    }
   ],
   "source": [
    "match_data['info'].keys()"
   ]
  },
  {
   "cell_type": "code",
   "execution_count": 317,
   "id": "1be865d9",
   "metadata": {},
   "outputs": [
    {
     "data": {
      "text/plain": [
       "False"
      ]
     },
     "execution_count": 317,
     "metadata": {},
     "output_type": "execute_result"
    }
   ],
   "source": [
    "match_data['info']['participants'][part_index]['win']"
   ]
  },
  {
   "cell_type": "code",
   "execution_count": 318,
   "id": "4b2b7671",
   "metadata": {},
   "outputs": [],
   "source": [
    "api_url='https://asia.api.riotgames.com/lol/match/v5/matches/KR_6844534213?api_key=RGAPI-84b830fc-1dc6-4225-a75b-ca1ff256722c'"
   ]
  },
  {
   "cell_type": "code",
   "execution_count": 319,
   "id": "e56cc021",
   "metadata": {},
   "outputs": [],
   "source": [
    "def get_match_data(region,match_id,api_key):\n",
    "    api_url=(\n",
    "        \"https://\"+region+\".api.riotgames.com/lol/match/v5/matches/\"+match_id+\"?api_key=\"+api_key\n",
    "    )\n",
    "    while True:\n",
    "        resp=requests.get(api_url)\n",
    "\n",
    "        if resp.status_code==429:\n",
    "            print(\"Sleeping\")\n",
    "            time.sleep(10)\n",
    "            continue\n",
    "        \n",
    "        data=resp.json()\n",
    "        return data"
   ]
  },
  {
   "cell_type": "code",
   "execution_count": 320,
   "id": "78321180",
   "metadata": {},
   "outputs": [],
   "source": [
    "def did_win(puuid,match_data):\n",
    "    part_index=match_data['metadata']['participants'].index(puuid)\n",
    "    return match_data['info']['participants'][part_index]['win']"
   ]
  },
  {
   "cell_type": "code",
   "execution_count": 325,
   "id": "a930628c",
   "metadata": {},
   "outputs": [],
   "source": [
    "region=\"ASIA\"\n",
    "match_id=\"KR_6847664207\"\n",
    "api_key=\"RGAPI-84b830fc-1dc6-4225-a75b-ca1ff256722c\"\n",
    "puuid='TORNTKMS3R96pX0U1zv4-hzW94lMcpOl_atvilmC30Y8_KiNikwBHOczOeR42URVlxMGGlMigVOI3A'"
   ]
  },
  {
   "cell_type": "code",
   "execution_count": 326,
   "id": "7f78f794",
   "metadata": {},
   "outputs": [],
   "source": [
    "match_data=get_match_data(region,match_id,api_key)"
   ]
  },
  {
   "cell_type": "code",
   "execution_count": 327,
   "id": "2918e4d5",
   "metadata": {},
   "outputs": [
    {
     "name": "stdout",
     "output_type": "stream",
     "text": [
      "False\n"
     ]
    }
   ],
   "source": [
    "print(did_win(puuid,match_data))"
   ]
  },
  {
   "cell_type": "code",
   "execution_count": 328,
   "id": "d1221b57",
   "metadata": {},
   "outputs": [
    {
     "name": "stdout",
     "output_type": "stream",
     "text": [
      "False\n",
      "False\n",
      "False\n",
      "False\n",
      "False\n",
      "True\n",
      "False\n",
      "False\n",
      "True\n",
      "False\n",
      "True\n",
      "False\n",
      "False\n",
      "True\n",
      "True\n",
      "False\n",
      "True\n",
      "True\n",
      "False\n",
      "True\n"
     ]
    }
   ],
   "source": [
    "for match_id in matches:\n",
    "    match_data=get_match_data(region,match_id,api_key)\n",
    "    print(did_win(puuid,match_data))"
   ]
  },
  {
   "cell_type": "code",
   "execution_count": null,
   "id": "eef620c5",
   "metadata": {},
   "outputs": [],
   "source": [
    "#위까지 준상이꺼, 밑에는 아직 수정안한 Astley 정보"
   ]
  },
  {
   "cell_type": "code",
   "execution_count": 331,
   "id": "b733222d",
   "metadata": {},
   "outputs": [],
   "source": [
    "api_url='https://asia.api.riotgames.com/lol/match/v5/matches/by-puuid/TORNTKMS3R96pX0U1zv4-hzW94lMcpOl_atvilmC30Y8_KiNikwBHOczOeR42URVlxMGGlMigVOI3A/ids?type=ranked&start=0&count=100'"
   ]
  },
  {
   "cell_type": "code",
   "execution_count": 332,
   "id": "f9819b7e",
   "metadata": {},
   "outputs": [],
   "source": [
    "def get_matches(region,puuid,count,api_key):\n",
    "    api_url=(\n",
    "        \"https://\" + region + \".api.riotgames.com/lol/match/v5/matches/by-puuid/\"+puuid+\"/ids\"+\"?type=ranked&\"\n",
    "        +\"start=0&\"+\"count=\"+str(count)+\"&api_key=\" + api_key\n",
    "    )\n",
    "    \n",
    "    resp=requests.get(api_url)\n",
    "    return resp.json()"
   ]
  },
  {
   "cell_type": "code",
   "execution_count": 333,
   "id": "4c69bb5d",
   "metadata": {},
   "outputs": [],
   "source": [
    "matches=get_matches(region,puuid,100,api_key)"
   ]
  },
  {
   "cell_type": "markdown",
   "id": "97183343",
   "metadata": {},
   "source": [
    "# Dealing with Rate Limits"
   ]
  },
  {
   "cell_type": "code",
   "execution_count": 334,
   "id": "039e01de",
   "metadata": {},
   "outputs": [],
   "source": [
    "matches.extend(matches)"
   ]
  },
  {
   "cell_type": "code",
   "execution_count": 345,
   "id": "d2c33b4d",
   "metadata": {},
   "outputs": [],
   "source": [
    "import time\n",
    "\n",
    "def get_match_data(region,match_id,api_key):\n",
    "    api_url=(\n",
    "        \"https://\"+region+\".api.riotgames.com/lol/match/v5/matches/\"+match_id+\"?api_key=\"+api_key\n",
    "    )\n",
    "    while True:\n",
    "        resp=requests.get(api_url)\n",
    "\n",
    "        if resp.status_code==429:\n",
    "            print(\"Sleeping\")\n",
    "            time.sleep(10)\n",
    "            continue\n",
    "        \n",
    "        data=resp.json()\n",
    "        return data"
   ]
  },
  {
   "cell_type": "code",
   "execution_count": 346,
   "id": "0a1d908e",
   "metadata": {
    "scrolled": true
   },
   "outputs": [
    {
     "name": "stdout",
     "output_type": "stream",
     "text": [
      "1\n",
      "KR_6847708422\n",
      "True\n",
      "\n",
      "2\n",
      "KR_6847664207\n",
      "False\n",
      "\n",
      "3\n",
      "KR_6846250656\n",
      "False\n",
      "\n",
      "4\n",
      "KR_6846223946\n",
      "False\n",
      "\n",
      "5\n",
      "KR_6846192958\n",
      "False\n",
      "\n",
      "6\n",
      "KR_6846155968\n",
      "False\n",
      "\n",
      "7\n",
      "KR_6846099995\n",
      "True\n",
      "\n",
      "8\n",
      "KR_6846053172\n",
      "False\n",
      "\n",
      "9\n",
      "KR_6845972494\n",
      "False\n",
      "\n",
      "10\n",
      "KR_6845008324\n",
      "True\n",
      "\n",
      "11\n",
      "KR_6844955004\n",
      "False\n",
      "\n",
      "12\n",
      "KR_6844534213\n",
      "True\n",
      "\n",
      "13\n",
      "KR_6844467919\n",
      "False\n",
      "\n",
      "14\n",
      "KR_6844397498\n",
      "False\n",
      "\n",
      "15\n",
      "KR_6831945952\n",
      "True\n",
      "\n",
      "16\n",
      "KR_6831868784\n",
      "True\n",
      "\n",
      "17\n",
      "KR_6831791869\n",
      "False\n",
      "\n",
      "18\n",
      "KR_6831109899\n",
      "True\n",
      "\n",
      "19\n",
      "KR_6831072073\n",
      "True\n",
      "\n",
      "20\n",
      "KR_6831012988\n",
      "False\n",
      "\n",
      "21\n",
      "KR_6830973372\n",
      "True\n",
      "\n",
      "22\n",
      "KR_6830928025\n",
      "False\n",
      "\n",
      "23\n",
      "KR_6829309650\n",
      "True\n",
      "\n",
      "24\n",
      "KR_6826172592\n",
      "True\n",
      "\n",
      "25\n",
      "KR_6823274876\n",
      "True\n",
      "\n",
      "26\n",
      "KR_6823230352\n",
      "False\n",
      "\n",
      "27\n",
      "KR_6823201336\n",
      "True\n",
      "\n",
      "28\n",
      "KR_6823122014\n",
      "False\n",
      "\n",
      "29\n",
      "KR_6823026492\n",
      "True\n",
      "\n",
      "30\n",
      "KR_6822959210\n",
      "True\n",
      "\n",
      "31\n",
      "KR_6822854400\n",
      "False\n",
      "\n",
      "32\n",
      "KR_6822267481\n",
      "False\n",
      "\n",
      "33\n",
      "KR_6820196436\n",
      "False\n",
      "\n",
      "34\n",
      "KR_6820162205\n",
      "False\n",
      "\n",
      "35\n",
      "KR_6820103961\n",
      "True\n",
      "\n",
      "36\n",
      "KR_6818455823\n",
      "True\n",
      "\n",
      "37\n",
      "KR_6818362265\n",
      "False\n",
      "\n",
      "38\n",
      "KR_6812367703\n",
      "True\n",
      "\n",
      "39\n",
      "KR_6812303681\n",
      "False\n",
      "\n",
      "40\n",
      "KR_6812245200\n",
      "False\n",
      "\n",
      "41\n",
      "KR_6811943713\n",
      "True\n",
      "\n",
      "42\n",
      "KR_6811849729\n",
      "True\n",
      "\n",
      "43\n",
      "KR_6810688337\n",
      "False\n",
      "\n",
      "44\n",
      "KR_6810623188\n",
      "False\n",
      "\n",
      "45\n",
      "KR_6810528456\n",
      "False\n",
      "\n",
      "46\n",
      "KR_6810418431\n",
      "True\n",
      "\n",
      "47\n",
      "KR_6810328966\n",
      "True\n",
      "\n",
      "48\n",
      "KR_6809388759\n",
      "False\n",
      "\n",
      "49\n",
      "KR_6809345244\n",
      "True\n",
      "\n",
      "50\n",
      "KR_6807886353\n",
      "True\n",
      "\n",
      "51\n",
      "KR_6807791626\n",
      "False\n",
      "\n",
      "52\n",
      "KR_6807772161\n",
      "True\n",
      "\n",
      "53\n",
      "KR_6807224208\n",
      "True\n",
      "\n",
      "54\n",
      "KR_6807201107\n",
      "False\n",
      "\n",
      "55\n",
      "KR_6807086540\n",
      "False\n",
      "\n",
      "56\n",
      "KR_6806544509\n",
      "True\n",
      "\n",
      "57\n",
      "KR_6806491965\n",
      "False\n",
      "\n",
      "58\n",
      "KR_6806464945\n",
      "False\n",
      "\n",
      "59\n",
      "KR_6806429315\n",
      "False\n",
      "\n",
      "60\n",
      "KR_6806060569\n",
      "False\n",
      "\n",
      "61\n",
      "KR_6806004401\n",
      "True\n",
      "\n",
      "62\n",
      "KR_6805951339\n",
      "True\n",
      "\n",
      "63\n",
      "KR_6805893468\n",
      "False\n",
      "\n",
      "64\n",
      "KR_6805793775\n",
      "True\n",
      "\n",
      "65\n",
      "KR_6805063251\n",
      "True\n",
      "\n",
      "66\n",
      "KR_6804989407\n",
      "True\n",
      "\n",
      "67\n",
      "KR_6803924124\n",
      "False\n",
      "\n",
      "68\n",
      "KR_6803525846\n",
      "True\n",
      "\n",
      "69\n",
      "KR_6803441509\n",
      "False\n",
      "\n",
      "70\n",
      "KR_6803361524\n",
      "False\n",
      "\n",
      "71\n",
      "KR_6802343630\n",
      "False\n",
      "\n",
      "72\n",
      "KR_6802316225\n",
      "False\n",
      "\n",
      "73\n",
      "KR_6802253754\n",
      "False\n",
      "\n",
      "74\n",
      "KR_6802196073\n",
      "False\n",
      "\n",
      "75\n",
      "KR_6802085303\n",
      "True\n",
      "\n",
      "76\n",
      "KR_6802019760\n",
      "True\n",
      "\n",
      "77\n",
      "KR_6800872389\n",
      "False\n",
      "\n",
      "78\n",
      "KR_6792832266\n",
      "True\n",
      "\n",
      "79\n",
      "KR_6780305853\n",
      "False\n",
      "\n",
      "80\n",
      "KR_6778826854\n",
      "True\n",
      "\n",
      "81\n",
      "KR_6778742924\n",
      "False\n",
      "\n",
      "82\n",
      "KR_6778699894\n",
      "True\n",
      "\n",
      "83\n",
      "KR_6778650436\n",
      "False\n",
      "\n",
      "84\n",
      "KR_6771956652\n",
      "True\n",
      "\n",
      "85\n",
      "KR_6771884330\n",
      "False\n",
      "\n",
      "86\n",
      "KR_6771773404\n",
      "True\n",
      "\n",
      "87\n",
      "KR_6771095567\n",
      "True\n",
      "\n",
      "88\n",
      "KR_6771012691\n",
      "False\n",
      "\n",
      "89\n",
      "KR_6770246161\n",
      "False\n",
      "\n",
      "90\n",
      "KR_6770157988\n",
      "True\n",
      "\n",
      "91\n",
      "KR_6770080421\n",
      "False\n",
      "\n",
      "92\n",
      "KR_6763453060\n",
      "False\n",
      "\n",
      "93\n",
      "KR_6763360516\n",
      "False\n",
      "\n",
      "94\n",
      "KR_6761499990\n",
      "True\n",
      "\n",
      "95\n",
      "KR_6761431451\n",
      "False\n",
      "\n",
      "96\n",
      "KR_6761339329\n",
      "True\n",
      "\n",
      "97\n",
      "KR_6761231198\n",
      "False\n",
      "\n",
      "98\n",
      "KR_6761151488\n",
      "True\n",
      "\n",
      "99\n",
      "KR_6761052058\n",
      "True\n",
      "\n",
      "100\n",
      "KR_6759727870\n",
      "False\n",
      "\n",
      "101\n",
      "KR_6847708422\n",
      "Sleeping\n",
      "Sleeping\n",
      "Sleeping\n",
      "Sleeping\n",
      "Sleeping\n",
      "Sleeping\n",
      "Sleeping\n",
      "Sleeping\n",
      "Sleeping\n",
      "True\n",
      "\n",
      "102\n",
      "KR_6847664207\n",
      "False\n",
      "\n",
      "103\n",
      "KR_6846250656\n",
      "False\n",
      "\n",
      "104\n",
      "KR_6846223946\n",
      "False\n",
      "\n",
      "105\n",
      "KR_6846192958\n",
      "False\n",
      "\n",
      "106\n",
      "KR_6846155968\n",
      "False\n",
      "\n",
      "107\n",
      "KR_6846099995\n",
      "True\n",
      "\n",
      "108\n",
      "KR_6846053172\n",
      "False\n",
      "\n",
      "109\n",
      "KR_6845972494\n",
      "False\n",
      "\n",
      "110\n",
      "KR_6845008324\n",
      "True\n",
      "\n",
      "111\n",
      "KR_6844955004\n",
      "False\n",
      "\n",
      "112\n",
      "KR_6844534213\n",
      "True\n",
      "\n",
      "113\n",
      "KR_6844467919\n",
      "False\n",
      "\n",
      "114\n",
      "KR_6844397498\n",
      "False\n",
      "\n",
      "115\n",
      "KR_6831945952\n",
      "True\n",
      "\n",
      "116\n",
      "KR_6831868784\n",
      "True\n",
      "\n",
      "117\n",
      "KR_6831791869\n",
      "False\n",
      "\n",
      "118\n",
      "KR_6831109899\n",
      "True\n",
      "\n",
      "119\n",
      "KR_6831072073\n",
      "True\n",
      "\n",
      "120\n",
      "KR_6831012988\n",
      "False\n",
      "\n",
      "121\n",
      "KR_6830973372\n",
      "True\n",
      "\n",
      "122\n",
      "KR_6830928025\n",
      "False\n",
      "\n",
      "123\n",
      "KR_6829309650\n",
      "True\n",
      "\n",
      "124\n",
      "KR_6826172592\n",
      "True\n",
      "\n",
      "125\n",
      "KR_6823274876\n",
      "True\n",
      "\n",
      "126\n",
      "KR_6823230352\n",
      "False\n",
      "\n",
      "127\n",
      "KR_6823201336\n",
      "True\n",
      "\n",
      "128\n",
      "KR_6823122014\n",
      "False\n",
      "\n",
      "129\n",
      "KR_6823026492\n",
      "True\n",
      "\n",
      "130\n",
      "KR_6822959210\n",
      "True\n",
      "\n",
      "131\n",
      "KR_6822854400\n",
      "False\n",
      "\n",
      "132\n",
      "KR_6822267481\n",
      "False\n",
      "\n",
      "133\n",
      "KR_6820196436\n",
      "False\n",
      "\n",
      "134\n",
      "KR_6820162205\n",
      "False\n",
      "\n",
      "135\n",
      "KR_6820103961\n",
      "True\n",
      "\n",
      "136\n",
      "KR_6818455823\n",
      "True\n",
      "\n",
      "137\n",
      "KR_6818362265\n",
      "False\n",
      "\n",
      "138\n",
      "KR_6812367703\n",
      "True\n",
      "\n",
      "139\n",
      "KR_6812303681\n",
      "False\n",
      "\n",
      "140\n",
      "KR_6812245200\n",
      "False\n",
      "\n",
      "141\n",
      "KR_6811943713\n",
      "True\n",
      "\n",
      "142\n",
      "KR_6811849729\n",
      "True\n",
      "\n",
      "143\n",
      "KR_6810688337\n",
      "False\n",
      "\n",
      "144\n",
      "KR_6810623188\n",
      "False\n",
      "\n",
      "145\n",
      "KR_6810528456\n",
      "False\n",
      "\n",
      "146\n",
      "KR_6810418431\n",
      "True\n",
      "\n",
      "147\n",
      "KR_6810328966\n",
      "True\n",
      "\n",
      "148\n",
      "KR_6809388759\n",
      "False\n",
      "\n",
      "149\n",
      "KR_6809345244\n",
      "True\n",
      "\n",
      "150\n",
      "KR_6807886353\n",
      "True\n",
      "\n",
      "151\n",
      "KR_6807791626\n",
      "False\n",
      "\n",
      "152\n",
      "KR_6807772161\n",
      "True\n",
      "\n",
      "153\n",
      "KR_6807224208\n",
      "True\n",
      "\n",
      "154\n",
      "KR_6807201107\n",
      "False\n",
      "\n",
      "155\n",
      "KR_6807086540\n",
      "False\n",
      "\n",
      "156\n",
      "KR_6806544509\n",
      "True\n",
      "\n",
      "157\n",
      "KR_6806491965\n",
      "False\n",
      "\n",
      "158\n",
      "KR_6806464945\n",
      "False\n",
      "\n",
      "159\n",
      "KR_6806429315\n",
      "False\n",
      "\n",
      "160\n",
      "KR_6806060569\n",
      "False\n",
      "\n",
      "161\n",
      "KR_6806004401\n",
      "True\n",
      "\n",
      "162\n",
      "KR_6805951339\n",
      "True\n",
      "\n",
      "163\n",
      "KR_6805893468\n",
      "False\n",
      "\n",
      "164\n",
      "KR_6805793775\n",
      "True\n",
      "\n",
      "165\n",
      "KR_6805063251\n",
      "True\n",
      "\n",
      "166\n",
      "KR_6804989407\n",
      "True\n",
      "\n",
      "167\n",
      "KR_6803924124\n",
      "False\n",
      "\n",
      "168\n",
      "KR_6803525846\n",
      "True\n",
      "\n",
      "169\n",
      "KR_6803441509\n",
      "False\n",
      "\n",
      "170\n",
      "KR_6803361524\n",
      "False\n",
      "\n",
      "171\n",
      "KR_6802343630\n",
      "False\n",
      "\n",
      "172\n",
      "KR_6802316225\n",
      "False\n",
      "\n",
      "173\n",
      "KR_6802253754\n",
      "False\n",
      "\n",
      "174\n",
      "KR_6802196073\n",
      "False\n",
      "\n",
      "175\n",
      "KR_6802085303\n",
      "True\n",
      "\n",
      "176\n",
      "KR_6802019760\n",
      "True\n",
      "\n",
      "177\n",
      "KR_6800872389\n",
      "False\n",
      "\n",
      "178\n",
      "KR_6792832266\n",
      "True\n",
      "\n",
      "179\n",
      "KR_6780305853\n",
      "False\n",
      "\n",
      "180\n",
      "KR_6778826854\n",
      "True\n",
      "\n",
      "181\n",
      "KR_6778742924\n",
      "False\n",
      "\n",
      "182\n",
      "KR_6778699894\n",
      "True\n",
      "\n",
      "183\n",
      "KR_6778650436\n",
      "False\n",
      "\n",
      "184\n",
      "KR_6771956652\n",
      "True\n",
      "\n",
      "185\n",
      "KR_6771884330\n",
      "False\n",
      "\n",
      "186\n",
      "KR_6771773404\n",
      "True\n",
      "\n",
      "187\n",
      "KR_6771095567\n",
      "True\n",
      "\n",
      "188\n",
      "KR_6771012691\n",
      "False\n",
      "\n",
      "189\n",
      "KR_6770246161\n",
      "False\n",
      "\n",
      "190\n",
      "KR_6770157988\n",
      "True\n",
      "\n",
      "191\n",
      "KR_6770080421\n",
      "False\n",
      "\n",
      "192\n",
      "KR_6763453060\n",
      "False\n",
      "\n",
      "193\n",
      "KR_6763360516\n",
      "False\n",
      "\n",
      "194\n",
      "KR_6761499990\n",
      "True\n",
      "\n",
      "195\n",
      "KR_6761431451\n",
      "False\n",
      "\n",
      "196\n",
      "KR_6761339329\n",
      "True\n",
      "\n",
      "197\n",
      "KR_6761231198\n",
      "False\n",
      "\n",
      "198\n",
      "KR_6761151488\n",
      "True\n",
      "\n",
      "199\n",
      "KR_6761052058\n",
      "True\n",
      "\n",
      "200\n",
      "KR_6759727870\n",
      "False\n",
      "\n"
     ]
    }
   ],
   "source": [
    "game_no=1\n",
    "\n",
    "for match_id in matches:\n",
    "    print(game_no)\n",
    "    print(match_id)\n",
    "    match_data=get_match_data(region,match_id,api_key)\n",
    "    print(did_win(puuid,match_data))\n",
    "    print(\"\")\n",
    "    \n",
    "    game_no+=1"
   ]
  },
  {
   "cell_type": "code",
   "execution_count": 342,
   "id": "be4049ff",
   "metadata": {},
   "outputs": [],
   "source": [
    "resp=requests.get(api_url)"
   ]
  },
  {
   "cell_type": "code",
   "execution_count": 343,
   "id": "e4301bda",
   "metadata": {},
   "outputs": [
    {
     "data": {
      "text/plain": [
       "<Response [401]>"
      ]
     },
     "execution_count": 343,
     "metadata": {},
     "output_type": "execute_result"
    }
   ],
   "source": [
    "resp"
   ]
  },
  {
   "cell_type": "code",
   "execution_count": 344,
   "id": "1e127628",
   "metadata": {},
   "outputs": [
    {
     "data": {
      "text/plain": [
       "True"
      ]
     },
     "execution_count": 344,
     "metadata": {},
     "output_type": "execute_result"
    }
   ],
   "source": [
    "resp.status_code==401"
   ]
  },
  {
   "cell_type": "code",
   "execution_count": null,
   "id": "941a91f9",
   "metadata": {},
   "outputs": [],
   "source": [
    "resp"
   ]
  }
 ],
 "metadata": {
  "kernelspec": {
   "display_name": "Python 3.10.6 64-bit",
   "language": "python",
   "name": "python3"
  },
  "language_info": {
   "codemirror_mode": {
    "name": "ipython",
    "version": 3
   },
   "file_extension": ".py",
   "mimetype": "text/x-python",
   "name": "python",
   "nbconvert_exporter": "python",
   "pygments_lexer": "ipython3",
   "version": "3.10.6"
  },
  "vscode": {
   "interpreter": {
    "hash": "aee8b7b246df8f9039afb4144a1f6fd8d2ca17a180786b69acc140d282b71a49"
   }
  }
 },
 "nbformat": 4,
 "nbformat_minor": 5
}
