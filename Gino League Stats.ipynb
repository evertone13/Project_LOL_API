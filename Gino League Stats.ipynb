{
 "cells": [
  {
   "cell_type": "code",
   "execution_count": 3,
   "id": "c36e6d6a",
   "metadata": {
    "scrolled": true
   },
   "outputs": [],
   "source": [
    "api_key=\"RGAPI-84b830fc-1dc6-4225-a75b-ca1ff256722c\""
   ]
  },
  {
   "cell_type": "code",
   "execution_count": 4,
   "id": "1d105bdf",
   "metadata": {},
   "outputs": [
    {
     "data": {
      "text/plain": [
       "'RGAPI-84b830fc-1dc6-4225-a75b-ca1ff256722c'"
      ]
     },
     "execution_count": 4,
     "metadata": {},
     "output_type": "execute_result"
    }
   ],
   "source": [
    "api_key"
   ]
  },
  {
   "cell_type": "markdown",
   "id": "b6743a1a",
   "metadata": {},
   "source": [
    "# Retrieve User ID"
   ]
  },
  {
   "cell_type": "code",
   "execution_count": null,
   "id": "06a3e11d",
   "metadata": {},
   "outputs": [],
   "source": [
    "userID_api_url="
   ]
  }
 ],
 "metadata": {
  "kernelspec": {
   "display_name": "Python 3.10.6 64-bit",
   "language": "python",
   "name": "python3"
  },
  "language_info": {
   "codemirror_mode": {
    "name": "ipython",
    "version": 3
   },
   "file_extension": ".py",
   "mimetype": "text/x-python",
   "name": "python",
   "nbconvert_exporter": "python",
   "pygments_lexer": "ipython3",
   "version": "3.10.6"
  },
  "vscode": {
   "interpreter": {
    "hash": "aee8b7b246df8f9039afb4144a1f6fd8d2ca17a180786b69acc140d282b71a49"
   }
  }
 },
 "nbformat": 4,
 "nbformat_minor": 5
}
